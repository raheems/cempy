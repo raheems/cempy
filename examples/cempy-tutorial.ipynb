{
 "cells": [
  {
   "cell_type": "code",
   "execution_count": 1,
   "id": "a3798259",
   "metadata": {},
   "outputs": [],
   "source": [
    "import pandas as pd"
   ]
  },
  {
   "cell_type": "code",
   "execution_count": 2,
   "id": "002f3df7",
   "metadata": {},
   "outputs": [
    {
     "name": "stdout",
     "output_type": "stream",
     "text": [
      "\u001b[31mERROR: cempy is not a valid editable requirement. It should either be a path to a local project or a VCS URL (beginning with bzr+http, bzr+https, bzr+ssh, bzr+sftp, bzr+ftp, bzr+lp, bzr+file, git+http, git+https, git+ssh, git+git, git+file, hg+file, hg+http, hg+https, hg+ssh, hg+static-http, svn+ssh, svn+http, svn+https, svn+svn, svn+file).\u001b[0m\r\n"
     ]
    }
   ],
   "source": [
    "!pip install -e cempy"
   ]
  },
  {
   "cell_type": "code",
   "execution_count": 3,
   "id": "24a77ea3",
   "metadata": {},
   "outputs": [
    {
     "ename": "ModuleNotFoundError",
     "evalue": "No module named 'cempy'",
     "output_type": "error",
     "traceback": [
      "\u001b[0;31m---------------------------------------------------------------------------\u001b[0m",
      "\u001b[0;31mModuleNotFoundError\u001b[0m                       Traceback (most recent call last)",
      "Input \u001b[0;32mIn [3]\u001b[0m, in \u001b[0;36m<cell line: 1>\u001b[0;34m()\u001b[0m\n\u001b[0;32m----> 1\u001b[0m \u001b[38;5;28;01mfrom\u001b[39;00m \u001b[38;5;21;01mcempy\u001b[39;00m \u001b[38;5;28;01mimport\u001b[39;00m CEM\n",
      "\u001b[0;31mModuleNotFoundError\u001b[0m: No module named 'cempy'"
     ]
    }
   ],
   "source": [
    "from cempy import CEM"
   ]
  },
  {
   "cell_type": "code",
   "execution_count": null,
   "id": "e2d4530d",
   "metadata": {},
   "outputs": [],
   "source": [
    "# Load data\n",
    "ll = pd.read_csv('lelonde.csv')"
   ]
  },
  {
   "cell_type": "code",
   "execution_count": null,
   "id": "27fa54b7",
   "metadata": {},
   "outputs": [],
   "source": [
    "ll.head()"
   ]
  },
  {
   "cell_type": "code",
   "execution_count": null,
   "id": "5b50170b",
   "metadata": {},
   "outputs": [],
   "source": [
    "ll.describe()"
   ]
  },
  {
   "cell_type": "code",
   "execution_count": null,
   "id": "46ab459f",
   "metadata": {},
   "outputs": [],
   "source": [
    "f = CEM.CEM()"
   ]
  },
  {
   "cell_type": "code",
   "execution_count": null,
   "id": "4d812bdf",
   "metadata": {},
   "outputs": [],
   "source": []
  }
 ],
 "metadata": {
  "kernelspec": {
   "display_name": "Python 3 (ipykernel)",
   "language": "python",
   "name": "python3"
  },
  "language_info": {
   "codemirror_mode": {
    "name": "ipython",
    "version": 3
   },
   "file_extension": ".py",
   "mimetype": "text/x-python",
   "name": "python",
   "nbconvert_exporter": "python",
   "pygments_lexer": "ipython3",
   "version": "3.9.12"
  }
 },
 "nbformat": 4,
 "nbformat_minor": 5
}
